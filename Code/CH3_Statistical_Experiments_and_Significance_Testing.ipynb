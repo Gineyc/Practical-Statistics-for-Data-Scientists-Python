{
 "cells": [
  {
   "cell_type": "markdown",
   "metadata": {},
   "source": [
    "### The classical statistical inference pipeline:\n",
    "- Formulate Hypothesis\n",
    "- Design Experiment\n",
    "- Collect Data\n",
    "- Inference/Conclusions\n",
    "\n",
    "## 3.1 A/B Testing\n",
    "\n",
    "Treatment: something (drug, price, web headline) to which a subject is exposed.\n",
    "\n",
    "Treatment group: A group of subjects exposed to a specific treatment.\n",
    "\n",
    "Control group: A group of subjects exposed to no (or standard) treatment.\n",
    "\n",
    "Randomization: The process of randomly assigning subjects to treatments.\n",
    "\n",
    "Subjects: The items( web visitors, patients, etc.) that exposed to treatments.\n",
    "\n",
    "Test statistic: The metric used to measure the effect of the treatment.\n",
    "\n",
    "#### Why have a control group?\n",
    "- Without a control group, there is no assurance that \"other things are equal\" and that any difference is really due to the treatment(or to chance) \n",
    "\n",
    "#### Why just A/B? why not C, D?\n",
    "- A/B tests are popular in the marketing and ecommerce worlds.\n",
    "- There are also other types of statistical experiment: additional treatments, repeated measurements, multi-arm bandit\n",
    "\n",
    "#### Key Ideas\n",
    "- Subjects are assigned to two or more groups that are treated exactly alike, except that the treatment under study differs from one to another.\n",
    "- Ideally, subjects are assigned randomly to the groups."
   ]
  },
  {
   "cell_type": "markdown",
   "metadata": {},
   "source": [
    "## 3.2 Hypothesis Tests\n",
    "Null hypothesis: The hypothesis that chance is to blame.\n",
    "\n",
    "Alternative hypothesis: Counterpoint to the null(what you hope to prove).\n",
    "\n",
    "One-way test: Hypothesis test that counts chance results only in one direction.\n",
    "\n",
    "Two-way test: Hypothesis test that counts chance results in two directions.\n",
    "\n",
    "We need to consider the failure to anticipate extreme events, balck swans.\n",
    "\n",
    "- Random chance in assignment of subjects.\n",
    "- A true difference between A and B.\n",
    "\n",
    "#### The Null Hypothesis\n",
    "The Null hypothesis involves a baseline assumption that the treatments are equivalent, and any difference between the groups is due to chance.\n",
    "\n",
    "In the experimental, we want to prove the null hypothesis wrong. One way is via a resampling permutation procedure, in which we shuffle together the results from groups A and B and then repeatedly deal out the data in groups of similar sizez, then observe how often we get a difference as extreme as the observed difference.\n",
    "\n",
    "#### Alternative Hypothesis\n",
    "\n",
    "- Null= \"no difference between the meas of group A and group B\" Alternative= \"A is different from B (bigger or smaller)\"\n",
    "\n",
    "- Null= \"A<=B\" Alternative=\"B>A\"\n",
    "\n",
    "- Null=\"B is not X% greater than A\" Alternative=\"B is X% greater than A\"\n",
    "\n",
    "#### One way, Two-way Hypothesis Test\n",
    "If we want a directional alternative hypothesis (B is better than A), we can use one-way hypothesis test. This means that extreme chance results in only one direction, direction count toward the p-value.\n",
    "\n",
    "#### Key Ideas\n",
    "\n",
    "- A null hypothesis is a logical constrct embodying the notion that nothing special has happend, and any effect you observe is due to random chance.\n",
    "\n",
    "- The hypothesis test assumes that the null hypothesis is true, and tests whether the effect you observe is a reasonable outcome of that model.\n",
    "\n"
   ]
  },
  {
   "cell_type": "markdown",
   "metadata": {},
   "source": [
    "## 3.3 Resampling\n",
    "Permutation test: The procedure of combining two or more samples together, and randomly reallocating the observations to resamples. (Randomization test, random permutation test, exact test)\n",
    "\n",
    "With or without replacement: In sampling, whether or not an item is returned to the sample before the next draw.\n",
    "\n",
    "#### Permutation Test\n",
    "\n",
    "Permute means to change the order of a set of values.\n",
    "\n",
    "Permutation test is based on the null hypothesis that the groups were exposed do not differ.\n",
    "\n",
    "#### Key Ideas:\n",
    "- In a permutation test, multiple samples are combined, then shuffled.\n",
    "- The shuffled values are then divided into resamples, and the statistic of interest is calculated.\n",
    "- This process is then repeated, and the resampled statistic is tabulated.\n",
    "- Comparing the observed value of the statistic to the resampled distribution allows you to judge whether an observed difference between samples might ovv"
   ]
  },
  {
   "cell_type": "code",
   "execution_count": 45,
   "metadata": {},
   "outputs": [
    {
     "data": {
      "text/plain": [
       "Text(0.5, 1.0, 'Sesion times for web pages A and B')"
      ]
     },
     "execution_count": 45,
     "metadata": {},
     "output_type": "execute_result"
    },
    {
     "data": {
      "image/png": "[encoded data removed]",
      "text/plain": [
       "<Figure size 432x288 with 1 Axes>"
      ]
     },
     "metadata": {
      "needs_background": "light"
     },
     "output_type": "display_data"
    }
   ],
   "source": [
    "import pandas as pd\n",
    "import seaborn as sns\n",
    "from matplotlib import pyplot as plt\n",
    "import numpy as np\n",
    "import random\n",
    "\n",
    "df = pd.read_csv('../Data/web_page_data.csv')\n",
    "\n",
    "sns.boxplot(x=\"Page\", y=\"Time\", data=df)\n",
    "plt.title(\"Sesion times for web pages A and B\")"
   ]
  },
  {
   "cell_type": "code",
   "execution_count": 25,
   "metadata": {},
   "outputs": [
    {
     "name": "stdout",
     "output_type": "stream",
     "text": [
      "mean of page A:  1.2633333333333332\n",
      "mean of page B:  1.62\n",
      "diff of mean:  0.3566666666666669\n"
     ]
    }
   ],
   "source": [
    "page_a = df[df.Page==\"Page A\"]\n",
    "page_b = df[df.Page==\"Page B\"]\n",
    "\n",
    "print(\"mean of page A: \",page_a.Time.mean())\n",
    "print(\"mean of page B: \",page_b.Time.mean())\n",
    "print(\"diff of mean: \",page_b.Time.mean()-page_a.Time.mean())"
   ]
  },
  {
   "cell_type": "code",
   "execution_count": 78,
   "metadata": {},
   "outputs": [
    {
     "data": {
      "text/plain": [
       "Text(0.5, 1.0, 'Frequency distribution for session time differences between page A and B')"
      ]
     },
     "execution_count": 78,
     "metadata": {},
     "output_type": "execute_result"
    },
    {
     "data": {
      "image/png": "[encoded data removed]",
      "text/plain": [
       "<Figure size 432x288 with 1 Axes>"
      ]
     },
     "metadata": {
      "needs_background": "light"
     },
     "output_type": "display_data"
    }
   ],
   "source": [
    "def perm_fun(n,size1,size2):\n",
    "    np.random.shuffle(n)\n",
    "    n1=n[:size1]\n",
    "    n2=n[-size2:]\n",
    "    return n1.mean()-n2.mean()\n",
    "\n",
    "num=10000\n",
    "diff=page_b.Time.mean()-page_a.Time.mean()\n",
    "diff=[]\n",
    "n=np.array(df.Time)\n",
    "for i in range(num):\n",
    "    diff.append(perm_fun(n,page_a.size,page_b.size))\n",
    "    \n",
    "\n",
    "plt.hist(diff)\n",
    "plt.title(\"Frequency distribution for session time differences between page A and B\")"
   ]
  },
  {
   "cell_type": "code",
   "execution_count": null,
   "metadata": {},
   "outputs": [],
   "source": []
  }
 ],
 "metadata": {
  "kernelspec": {
   "display_name": "Python 3",
   "language": "python",
   "name": "python3"
  },
  "language_info": {
   "codemirror_mode": {
    "name": "ipython",
    "version": 3
   },
   "file_extension": ".py",
   "mimetype": "text/x-python",
   "name": "python",
   "nbconvert_exporter": "python",
   "pygments_lexer": "ipython3",
   "version": "3.7.6"
  }
 },
 "nbformat": 4,
 "nbformat_minor": 2
}

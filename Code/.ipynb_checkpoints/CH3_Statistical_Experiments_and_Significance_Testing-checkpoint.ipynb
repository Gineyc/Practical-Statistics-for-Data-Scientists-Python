{
 "cells": [
  {
   "cell_type": "markdown",
   "metadata": {},
   "source": [
    "### The classical statistical inference pipeline:\n",
    "- Formulate Hypothesis\n",
    "- Design Experiment\n",
    "- Collect Data\n",
    "- Inference/Conclusions\n",
    "\n",
    "## 3.1 A/B Testing\n",
    "\n",
    "Treatment: something (drug, price, web headline) to which a subject is exposed.\n",
    "\n",
    "Treatment group: A group of subjects exposed to a specific treatment.\n",
    "\n",
    "Control group: A group of subjects exposed to no (or standard) treatment.\n",
    "\n",
    "Randomization: The process of randomly assigning subjects to treatments.\n",
    "\n",
    "Subjects: The items( web visitors, patients, etc.) that exposed to treatments.\n",
    "\n",
    "Test statistic: The metric used to measure the effect of the treatment.\n",
    "\n",
    "#### Why have a control group?\n",
    "- Without a control group, there is no assurance that \"other things are equal\" and that any difference is really due to the treatment(or to chance) \n",
    "\n",
    "#### Why just A/B? why not C, D?\n",
    "- A/B tests are popular in the marketing and ecommerce worlds.\n",
    "- There are also other types of statistical experiment: additional treatments, repeated measurements, multi-arm bandit\n",
    "\n",
    "#### Key Ideas\n",
    "- Subjects are assigned to two or more groups that are treated exactly alike, except that the treatment under study differs from one to another.\n",
    "- Ideally, subjects are assigned randomly to the groups."
   ]
  },
  {
   "cell_type": "markdown",
   "metadata": {},
   "source": [
    "## 3.2 Hypothesis Tests\n",
    "Null hypothesis: The hypothesis that chance is to blame.\n",
    "\n",
    "Alternative hypothesis: Counterpoint to the null(what you hope to prove).\n",
    "\n",
    "One-way test: Hypothesis test that counts chance results only in one direction.\n",
    "\n",
    "Two-way test: Hypothesis test that counts chance results in two directions.\n",
    "\n",
    "We need to consider the failure to anticipate extreme events, balck swans.\n",
    "\n",
    "- Random chance in assignment of subjects.\n",
    "- A true difference between A and B.\n",
    "\n",
    "#### The Null Hypothesis\n",
    "The Null hypothesis involves a baseline assumption that the treatments are equivalent, and any difference between the groups is due to chance.\n",
    "\n",
    "In the experimental, we want to prove the null hypothesis wrong. One way is via a resampling permutation procedure, in which we shuffle together the results from groups A and B and then repeatedly deal out the data in groups of similar sizez, then observe how often we get a difference as extreme as the observed difference.\n",
    "\n",
    "#### Alternative Hypothesis\n",
    "\n",
    "- Null= \"no difference between the meas of group A and group B\" Alternative= \"A is different from B (bigger or smaller)\"\n",
    "\n",
    "- Null= \"A<=B\" Alternative=\"B>A\"\n",
    "\n",
    "- Null=\"B is not X% greater than A\" Alternative=\"B is X% greater than A\"\n",
    "\n",
    "#### One way, Two-way Hypothesis Test\n",
    "If we want a directional alternative hypothesis (B is better than A), we can use one-way hypothesis test. This means that extreme chance results in only one direction, direction count toward the p-value.\n",
    "\n"
   ]
  }
 ],
 "metadata": {
  "kernelspec": {
   "display_name": "Python 3",
   "language": "python",
   "name": "python3"
  },
  "language_info": {
   "codemirror_mode": {
    "name": "ipython",
    "version": 3
   },
   "file_extension": ".py",
   "mimetype": "text/x-python",
   "name": "python",
   "nbconvert_exporter": "python",
   "pygments_lexer": "ipython3",
   "version": "3.7.6"
  }
 },
 "nbformat": 4,
 "nbformat_minor": 2
}
